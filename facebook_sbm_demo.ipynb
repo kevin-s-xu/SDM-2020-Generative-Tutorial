{
 "cells": [
  {
   "cell_type": "code",
   "execution_count": 1,
   "metadata": {},
   "outputs": [],
   "source": [
    "import sys\n",
    "from os.path import join\n",
    "sys.path.insert(0, 'utils')\n",
    "\n",
    "import numpy as np\n",
    "import matplotlib.pyplot as plt\n",
    "import networkx as nx\n",
    "import sbm"
   ]
  },
  {
   "cell_type": "markdown",
   "metadata": {},
   "source": [
    "## Load data and visualize adjacency matrix"
   ]
  },
  {
   "cell_type": "code",
   "execution_count": 2,
   "metadata": {},
   "outputs": [
    {
     "data": {
      "image/png": "[encoded data removed]",
      "text/plain": [
       "<matplotlib.figure.Figure at 0x7f9548b8b978>"
      ]
     },
     "metadata": {},
     "output_type": "display_data"
    }
   ],
   "source": [
    "dataFileName = join('data', 'facebook-wall-filtered.txt')\n",
    "net = nx.read_edgelist(dataFileName,create_using=nx.DiGraph(),data=(('Timestamp',int),))\n",
    "adj = nx.to_numpy_array(net)\n",
    "plt.figure()\n",
    "plt.spy(adj)\n",
    "plt.show()"
   ]
  },
  {
   "cell_type": "markdown",
   "metadata": {},
   "source": [
    "## Estimate cluster memberships using spectral clustering"
   ]
  },
  {
   "cell_type": "code",
   "execution_count": 3,
   "metadata": {
    "scrolled": true
   },
   "outputs": [
    {
     "data": {
      "image/png": "[encoded data removed]",
      "text/plain": [
       "<matplotlib.figure.Figure at 0x7f957834d9e8>"
      ]
     },
     "metadata": {},
     "output_type": "display_data"
    },
    {
     "name": "stdout",
     "output_type": "stream",
     "text": [
      "Enter the number of clusters: 2\n",
      "[1812  173]\n"
     ]
    }
   ],
   "source": [
    "clusterId = sbm.spectralCluster(adj,directed=True)\n",
    "nClusters = np.max(clusterId)+1\n",
    "clusterSizes = np.histogram(clusterId, bins=nClusters)[0]\n",
    "print(clusterSizes)"
   ]
  },
  {
   "cell_type": "markdown",
   "metadata": {},
   "source": [
    "### Re-order nodes by class memberships and re-examine adjacency matrix"
   ]
  },
  {
   "cell_type": "code",
   "execution_count": 6,
   "metadata": {},
   "outputs": [
    {
     "data": {
      "image/png": "[encoded data removed]",
      "text/plain": [
       "<matplotlib.figure.Figure at 0x7f957826cbe0>"
      ]
     },
     "metadata": {},
     "output_type": "display_data"
    }
   ],
   "source": [
    "sbm.spyClusters(adj,clusterId)"
   ]
  },
  {
   "cell_type": "markdown",
   "metadata": {},
   "source": [
    "## Estimate edge probabilities at the block level"
   ]
  },
  {
   "cell_type": "code",
   "execution_count": 7,
   "metadata": {},
   "outputs": [
    {
     "name": "stdout",
     "output_type": "stream",
     "text": [
      "[[0.00347185 0.00344205]\n",
      " [0.00272748 0.0675158 ]]\n",
      "-96346.13030670563\n"
     ]
    }
   ],
   "source": [
    "blockProb,logLik = sbm.estimateBlockProb(adj,clusterId,directed=True)\n",
    "print(blockProb)\n",
    "print(logLik)"
   ]
  },
  {
   "cell_type": "markdown",
   "metadata": {},
   "source": [
    "### View estimated edge probabilities as a heat map"
   ]
  },
  {
   "cell_type": "code",
   "execution_count": 8,
   "metadata": {},
   "outputs": [
    {
     "data": {
      "image/png": "[encoded data removed]",
      "text/plain": [
       "<matplotlib.figure.Figure at 0x7f953d2690b8>"
      ]
     },
     "metadata": {},
     "output_type": "display_data"
    }
   ],
   "source": [
    "plt.figure()\n",
    "plt.imshow(blockProb)\n",
    "plt.colorbar()\n",
    "plt.show()"
   ]
  },
  {
   "cell_type": "markdown",
   "metadata": {},
   "source": [
    "## Compute reciprocity and transitivity of actual network using NetworkX"
   ]
  },
  {
   "cell_type": "code",
   "execution_count": 9,
   "metadata": {},
   "outputs": [
    {
     "name": "stdout",
     "output_type": "stream",
     "text": [
      "0.6964006259780907\n",
      "0.14944682874905163\n"
     ]
    }
   ],
   "source": [
    "recip = nx.overall_reciprocity(net)\n",
    "print(recip)\n",
    "trans = nx.transitivity(net)\n",
    "print(trans)"
   ]
  },
  {
   "cell_type": "markdown",
   "metadata": {},
   "source": [
    "## Simulate new networks from SBM fit to check model goodness of fit"
   ]
  },
  {
   "cell_type": "code",
   "execution_count": 10,
   "metadata": {},
   "outputs": [],
   "source": [
    "nRuns = 10\n",
    "blockProbSim = np.zeros((nClusters,nClusters,nRuns))\n",
    "recipSim = np.zeros(nRuns)\n",
    "transSim = np.zeros(nRuns)\n",
    "for run in range(nRuns):\n",
    "    # Simulate new adjacency matrix and create NetworkX object for it\n",
    "    adjSim = sbm.generateAdj(clusterId,blockProb,directed=True)\n",
    "    netSim = nx.DiGraph(adjSim)\n",
    "    blockProbSim[:,:,run] = sbm.estimateBlockProb(adjSim,clusterId,\n",
    "                                                  directed=True)[0]\n",
    "    recipSim[run] = nx.overall_reciprocity(netSim)\n",
    "    transSim[run] = nx.transitivity(netSim)\n",
    "meanBlockProbSim = np.mean(blockProbSim,axis=2)\n",
    "stdBlockProbSim = np.std(blockProbSim,axis=2)"
   ]
  },
  {
   "cell_type": "code",
   "execution_count": 11,
   "metadata": {},
   "outputs": [
    {
     "name": "stdout",
     "output_type": "stream",
     "text": [
      "Actual block densities:\n",
      "[[0.00347185 0.00344205]\n",
      " [0.00272748 0.0675158 ]]\n",
      "Mean simulated block densities:\n",
      "[[0.00346823 0.00341302]\n",
      " [0.00268091 0.06810727]]\n",
      "95% confidence interval lower bound:\n",
      "[[0.00340805 0.00317351]\n",
      " [0.00259295 0.06591789]]\n",
      "95% confidence interval upper bound:\n",
      "[[0.0035284  0.00365253]\n",
      " [0.00276886 0.07029665]]\n"
     ]
    }
   ],
   "source": [
    "print('Actual block densities:')\n",
    "print(blockProb)\n",
    "print('Mean simulated block densities:')\n",
    "print(meanBlockProbSim)\n",
    "print('95% confidence interval lower bound:')\n",
    "print(meanBlockProbSim-2*stdBlockProbSim)\n",
    "print('95% confidence interval upper bound:')\n",
    "print(meanBlockProbSim+2*stdBlockProbSim)"
   ]
  },
  {
   "cell_type": "code",
   "execution_count": 12,
   "metadata": {},
   "outputs": [
    {
     "data": {
      "image/png": "[encoded data removed]",
      "text/plain": [
       "<matplotlib.figure.Figure at 0x7f953d1d4550>"
      ]
     },
     "metadata": {},
     "output_type": "display_data"
    },
    {
     "data": {
      "image/png": "[encoded data removed]",
      "text/plain": [
       "<matplotlib.figure.Figure at 0x7f953d191a58>"
      ]
     },
     "metadata": {},
     "output_type": "display_data"
    }
   ],
   "source": [
    "plt.figure()\n",
    "plt.hist(recipSim)\n",
    "plt.title('Actual reciprocity: %f' % recip)\n",
    "plt.show()\n",
    "plt.figure()\n",
    "plt.hist(transSim)\n",
    "plt.title('Actual transitivity: %f' % trans)\n",
    "plt.show()"
   ]
  },
  {
   "cell_type": "code",
   "execution_count": null,
   "metadata": {},
   "outputs": [],
   "source": []
  }
 ],
 "metadata": {
  "kernelspec": {
   "display_name": "Python 3",
   "language": "python",
   "name": "python3"
  },
  "language_info": {
   "codemirror_mode": {
    "name": "ipython",
    "version": 3
   },
   "file_extension": ".py",
   "mimetype": "text/x-python",
   "name": "python",
   "nbconvert_exporter": "python",
   "pygments_lexer": "ipython3",
   "version": "3.6.4"
  }
 },
 "nbformat": 4,
 "nbformat_minor": 4
}
